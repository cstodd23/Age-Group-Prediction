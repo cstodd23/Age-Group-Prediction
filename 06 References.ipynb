{
 "cells": [
  {
   "cell_type": "markdown",
   "id": "a7e7ac28-fd3d-4778-a45c-5e96ea0d576f",
   "metadata": {},
   "source": [
    "[1] Agarwal, P. (2020, July 2). Age detection using facial images: Traditional machine learning vs. Deep Learning. Medium. Retrieved June 15, 2022, from https://towardsdatascience.com/age-detection-using-facial-images-traditional-machine-learning-vs-deep-learning-2437b2feeab2 "
   ]
  },
  {
   "cell_type": "markdown",
   "id": "f0fbfea2-6031-4e9b-bac6-7f9f03f65c01",
   "metadata": {},
   "source": [
    "[2] Alake, R. (2021, November 3). Implementing alexnet CNN architecture using tensorflow 2.0+ and keras. Medium. Retrieved June 10, 2022, from https://towardsdatascience.com/implementing-alexnet-cnn-architecture-using-tensorflow-2-0-and-keras-2113e090ad98 "
   ]
  },
  {
   "cell_type": "markdown",
   "id": "d33b228d-b7b7-491d-a493-59da803c4d9d",
   "metadata": {},
   "source": [
    "[3] JingchunCheng. (n.d.). Jingchuncheng/all-age-faces-dataset: All-age-faces (AAF) database. GitHub. Retrieved May 20, 2022, from https://github.com/JingchunCheng/All-Age-Faces-Dataset"
   ]
  },
  {
   "cell_type": "markdown",
   "id": "a3035db1-2056-4078-9007-09f799018e96",
   "metadata": {},
   "source": [
    "[4] Krizhevsky, A., Sutskever, I., & Hinton, G. E. (2017). ImageNet classification with deep convolutional Neural Networks. Communications of the ACM, 60(6), 84–90. https://doi.org/10.1145/3065386"
   ]
  },
  {
   "cell_type": "markdown",
   "id": "eba19b1a-82db-49e5-a1bc-2cbe83ee30ff",
   "metadata": {},
   "source": [
    "[5] Singla, S. (2021, July 27). Age and gender detection using Deep Learning. Analytics Vidhya. Retrieved June 15, 2022, from https://www.analyticsvidhya.com/blog/2021/07/age-and-gender-detection-using-deep-learning/ "
   ]
  },
  {
   "cell_type": "markdown",
   "id": "6e99565a-e85c-465b-b0d5-f9ca0fa01298",
   "metadata": {},
   "source": [
    "[6] Song, Y. (n.d.). UTKFace Large Scale Face Dataset. Utkface. Retrieved May 25, 2022, from https://susanqq.github.io/UTKFace/ "
   ]
  },
  {
   "cell_type": "markdown",
   "id": "65895c25-d4fc-4f18-95ae-20935887dc9d",
   "metadata": {},
   "source": [
    "[7] T., Bex. (2022, March 19). How to finally install tensorflow 2 GPU on Windows 10 in 2022. Medium. Retrieved June 18, 2022, from https://towardsdatascience.com/how-to-finally-install-tensorflow-gpu-on-windows-10-63527910f255 "
   ]
  },
  {
   "cell_type": "markdown",
   "id": "e115b9ed-114f-46cc-92cd-f829b484c85e",
   "metadata": {},
   "source": [
    "[8] Zarts, E. (n.d.). A simple HTML resume - codepen. CodePen. Retrieved July 2, 2022, from https://codepen.io/emzarts/pen/OXzmym "
   ]
  },
  {
   "cell_type": "markdown",
   "id": "65d9d93f-f83a-4184-b4f6-3c55843f3861",
   "metadata": {},
   "source": [
    "[9] Ednalan. (n.d.). Python flask upload and display image. Python Flask Upload and display image. Retrieved June 22, 2022, from https://tutorial101.blogspot.com/2021/04/python-flask-upload-and-display-image.html "
   ]
  }
 ],
 "metadata": {
  "kernelspec": {
   "display_name": "Python 3 (ipykernel)",
   "language": "python",
   "name": "python3"
  },
  "language_info": {
   "codemirror_mode": {
    "name": "ipython",
    "version": 3
   },
   "file_extension": ".py",
   "mimetype": "text/x-python",
   "name": "python",
   "nbconvert_exporter": "python",
   "pygments_lexer": "ipython3",
   "version": "3.9.1"
  }
 },
 "nbformat": 4,
 "nbformat_minor": 5
}

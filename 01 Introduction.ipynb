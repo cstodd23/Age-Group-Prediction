{
 "cells": [
  {
   "cell_type": "markdown",
   "id": "6ebec77f-c1e5-4b85-af92-fe72920a19ca",
   "metadata": {},
   "source": [
    "# DTSC-691 Capstone: Machine Learning Project"
   ]
  },
  {
   "cell_type": "markdown",
   "id": "9a032aff-d0eb-45d2-bea0-86b956d56fad",
   "metadata": {},
   "source": [
    "## Age Identification from Images of Faces"
   ]
  },
  {
   "cell_type": "markdown",
   "id": "308db998-9121-49a9-8e3b-776d4c81c605",
   "metadata": {},
   "source": [
    "### Name: Chris Stoddard"
   ]
  },
  {
   "cell_type": "markdown",
   "id": "aa9a652b-b9e1-4e7b-9893-df7690728724",
   "metadata": {},
   "source": [
    "## Introduction"
   ]
  },
  {
   "cell_type": "markdown",
   "id": "98416235-a844-4bd6-b77d-82e34520d96e",
   "metadata": {},
   "source": [
    "My project is developing a machine learning algorithm that would predict the age of individuals when presented with a picture of their face.  I have always been interested in computer vision and facial recognition brings its unique challenges that I was excited to tackle.\n",
    "\n",
    "The intial goals of my project was to create a machine learning algorithm that would estimate the age to the year for images of people.  I started working on this goal and realized that the accuracy I wanted (+/- 5 years on average) might not be achievable during the time I had.  So my goals slightly pivoted to categorizing images by age into different age groups.\n",
    "\n",
    "My new goal was to get my algorithm to predict accurately the age group of an image with 70% accuaracy.\n",
    "\n",
    "Along the way I had other smaller goals that I also wanted to achive, some of these smaller goals included:\n",
    "Increasing the dataset I had started with.\n",
    "Trying multiple models.\n",
    "Configuring my environment to use my GPU for training.\n",
    "\n",
    "In the end I achieved an algorithm that would sort images into age groups with 69% accuracy, very close to my inital goal."
   ]
  },
  {
   "cell_type": "markdown",
   "id": "7e914b57-6e9e-4c30-a4c0-a94a402be513",
   "metadata": {
    "tags": []
   },
   "source": [
    "## Outline"
   ]
  },
  {
   "cell_type": "markdown",
   "id": "093c758c-4171-47d0-b8c9-934e4e16d95b",
   "metadata": {},
   "source": [
    "#### Obtaining the Data and Preprocessing"
   ]
  },
  {
   "cell_type": "markdown",
   "id": "70d39aac-b567-4424-89fe-5cb2f0fd8065",
   "metadata": {
    "jp-MarkdownHeadingCollapsed": true,
    "tags": []
   },
   "source": [
    "Finding the data<br>\n",
    "Cleaning the data<br>\n",
    "Data augmentation and Rotating images<br>\n",
    "Parsing out age from file names<br>\n",
    "Converting to grayscale<br>"
   ]
  },
  {
   "cell_type": "markdown",
   "id": "06c82e52-4217-430e-b6e3-238db933fa0b",
   "metadata": {},
   "source": [
    "#### Data Exploration"
   ]
  },
  {
   "cell_type": "markdown",
   "id": "77210790-b089-4ff4-9c1f-82b39ba940f4",
   "metadata": {},
   "source": [
    "Distribution of ages<br>\n",
    "Creating age groups"
   ]
  },
  {
   "cell_type": "markdown",
   "id": "d1d334b9-0289-4492-8d44-6763043de4ba",
   "metadata": {},
   "source": [
    "#### Hardware Pitfalls"
   ]
  },
  {
   "cell_type": "markdown",
   "id": "d299e972-cfe7-46f8-b9fc-889ee57126ab",
   "metadata": {},
   "source": [
    "CPU vs GPU performance<br>\n",
    "Exceeding system memory"
   ]
  },
  {
   "cell_type": "markdown",
   "id": "357a914b-bf13-48c5-8bbf-f0229e30d60f",
   "metadata": {},
   "source": [
    "#### Model Selection"
   ]
  },
  {
   "cell_type": "markdown",
   "id": "200aabd0-2c4c-465c-90e1-f81b9fd26dd2",
   "metadata": {},
   "source": [
    "Regression<br>\n",
    "Prerak Agarwal<br>\n",
    "AlexNet<br>\n",
    "Optimizers<br>\n",
    "Learning Rates"
   ]
  },
  {
   "cell_type": "markdown",
   "id": "3f40bcc4-dbbe-40f7-908b-e9bd9d730fc6",
   "metadata": {},
   "source": [
    "#### Model Performance"
   ]
  },
  {
   "cell_type": "markdown",
   "id": "1268bb3e-f0c1-4bed-bfde-de8d32e1c0f7",
   "metadata": {},
   "source": [
    "Loss and Accuracy<br>\n",
    "Confusion Matrix<br>\n",
    "What could be improved?"
   ]
  },
  {
   "cell_type": "markdown",
   "id": "77294c76-6e50-423b-ad2d-3332258f1946",
   "metadata": {
    "tags": []
   },
   "source": [
    "#### User Interface"
   ]
  }
 ],
 "metadata": {
  "kernelspec": {
   "display_name": "Python 3 (ipykernel)",
   "language": "python",
   "name": "python3"
  },
  "language_info": {
   "codemirror_mode": {
    "name": "ipython",
    "version": 3
   },
   "file_extension": ".py",
   "mimetype": "text/x-python",
   "name": "python",
   "nbconvert_exporter": "python",
   "pygments_lexer": "ipython3",
   "version": "3.9.1"
  }
 },
 "nbformat": 4,
 "nbformat_minor": 5
}
